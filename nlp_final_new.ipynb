{
  "nbformat": 4,
  "nbformat_minor": 0,
  "metadata": {
    "colab": {
      "name": "Untitled0.ipynb",
      "provenance": [],
      "toc_visible": true,
      "authorship_tag": "ABX9TyNoAmaSOmtKUTMcxaBuCSSH"
    },
    "kernelspec": {
      "name": "python3",
      "display_name": "Python 3"
    }
  },
  "cells": [
    {
      "cell_type": "code",
      "metadata": {
        "id": "en_H2YtPw_HS",
        "outputId": "596e4e73-c3c1-44ae-c8ad-bda1edcd708f",
        "colab": {
          "base_uri": "https://localhost:8080/"
        }
      },
      "source": [
        "import json\r\n",
        "import re\r\n",
        "import nltk\r\n",
        "import matplotlib.pyplot as plt\r\n",
        "import pandas as pd\r\n",
        "import sys\r\n",
        "from nltk.corpus import stopwords\r\n",
        "from nltk.tag import pos_tag\r\n",
        "from nltk.tokenize import word_tokenize\r\n",
        "from nltk import Text\r\n",
        "import collections\r\n",
        "from keras.layers.core import Dense, SpatialDropout1D \r\n",
        "from keras.layers.convolutional import Conv1D \r\n",
        "from keras.layers.embeddings import Embedding\r\n",
        "from keras.layers.pooling import GlobalMaxPooling1D\r\n",
        "from keras.layers import LSTM\r\n",
        "from keras.models import Sequential\r\n",
        "from keras.preprocessing.sequence import pad_sequences \r\n",
        "from keras.utils import np_utils \r\n",
        "from sklearn.model_selection import train_test_split\r\n",
        "\r\n",
        "nltk.download('stopwords')\r\n",
        "nltk.download('punkt')\r\n",
        "nltk.download('averaged_perceptron_tagger')\r\n",
        "stops = set(stopwords.words('english'))\r\n",
        "stemmer = nltk.stem.SnowballStemmer('english')"
      ],
      "execution_count": 43,
      "outputs": [
        {
          "output_type": "stream",
          "text": [
            "[nltk_data] Downloading package stopwords to /root/nltk_data...\n",
            "[nltk_data]   Package stopwords is already up-to-date!\n",
            "[nltk_data] Downloading package punkt to /root/nltk_data...\n",
            "[nltk_data]   Package punkt is already up-to-date!\n",
            "[nltk_data] Downloading package averaged_perceptron_tagger to\n",
            "[nltk_data]     /root/nltk_data...\n",
            "[nltk_data]   Package averaged_perceptron_tagger is already up-to-\n",
            "[nltk_data]       date!\n"
          ],
          "name": "stdout"
        }
      ]
    },
    {
      "cell_type": "code",
      "metadata": {
        "id": "m86GuaxPxG8O"
      },
      "source": [
        "with open('friends_train.json') as json_file:\r\n",
        "    json_train = json.load(json_file)\r\n",
        "with open('friends_test.json') as json_file:\r\n",
        "    json_test = json.load(json_file)\r\n",
        "with open('friends_dev.json') as json_file:\r\n",
        "    json_dev = json.load(json_file)"
      ],
      "execution_count": 14,
      "outputs": []
    },
    {
      "cell_type": "code",
      "metadata": {
        "id": "uMukqKxNxP2l"
      },
      "source": [
        "def cleaning(str):\r\n",
        "    replaceAll = str\r\n",
        "    only_english = re.sub('[^a-zA-Z]', ' ', replaceAll)\r\n",
        "    no_capitals = only_english.lower().split()\r\n",
        "    no_stops = [word for word in no_capitals if not word in stops]\r\n",
        "    stemmer_words = [stemmer.stem(word) for word in no_stops]\r\n",
        "    return ' '.join(stemmer_words)"
      ],
      "execution_count": 15,
      "outputs": []
    },
    {
      "cell_type": "code",
      "metadata": {
        "id": "PBI4YAXAxSr6"
      },
      "source": [
        "i = 0\r\n",
        "train_data=[]\r\n",
        "for rows in json_train:\r\n",
        "    for row in rows:\r\n",
        "        train_data.append([cleaning(row['utterance']), row['emotion']])\r\n",
        "for rows in json_test:\r\n",
        "    for row in rows:\r\n",
        "        train_data.append([cleaning(row['utterance']), row['emotion']])\r\n",
        "for rows in json_dev:\r\n",
        "    for row in rows:\r\n",
        "        train_data.append([cleaning(row['utterance']), row['emotion']])"
      ],
      "execution_count": 16,
      "outputs": []
    },
    {
      "cell_type": "code",
      "metadata": {
        "id": "Xl0MiK8_xYHx",
        "outputId": "1251451d-edc8-44f1-f37a-7130fddffb6d",
        "colab": {
          "base_uri": "https://localhost:8080/"
        }
      },
      "source": [
        "cnt = 0\r\n",
        "tagged = []\r\n",
        "counter = collections.Counter()\r\n",
        "for d in train_data:\r\n",
        "    cnt = cnt + 1\r\n",
        "    if cnt % 1000 == 0:\r\n",
        "        print(cnt)\r\n",
        "    words = pos_tag(word_tokenize(d[0]))\r\n",
        "    for t in words:\r\n",
        "        word = \"/\".join(t)\r\n",
        "        tagged.append(word)\r\n",
        "        counter[word] += 1"
      ],
      "execution_count": 17,
      "outputs": [
        {
          "output_type": "stream",
          "text": [
            "1000\n",
            "2000\n",
            "3000\n",
            "4000\n",
            "5000\n",
            "6000\n",
            "7000\n",
            "8000\n",
            "9000\n",
            "10000\n",
            "11000\n",
            "12000\n",
            "13000\n",
            "14000\n"
          ],
          "name": "stdout"
        }
      ]
    },
    {
      "cell_type": "code",
      "metadata": {
        "id": "KEHaM-HcxaR5"
      },
      "source": [
        "VOCAB_SIZE = 5000\r\n",
        "word2index = collections.defaultdict(int)\r\n",
        "for wid, word in enumerate(counter.most_common(VOCAB_SIZE)):\r\n",
        "    word2index[word[0]] = wid + 1\r\n",
        "vocab_sz = len(word2index) + 1\r\n",
        "index2word = {v:k for k, v in word2index.items()}"
      ],
      "execution_count": 18,
      "outputs": []
    },
    {
      "cell_type": "code",
      "metadata": {
        "id": "HFx9GlU9xcpZ"
      },
      "source": [
        "def labeltoint(str):\r\n",
        "    return {'non-neutral': 0,\r\n",
        "             'neutral': 1, \r\n",
        "             'joy': 2,\r\n",
        "             'sadness': 3,\r\n",
        "             'fear': 4,\r\n",
        "             'anger': 5,\r\n",
        "             'surprise': 6,\r\n",
        "             'disgust': 7}[str]"
      ],
      "execution_count": 19,
      "outputs": []
    },
    {
      "cell_type": "code",
      "metadata": {
        "id": "B5S5WFd1xfKx",
        "outputId": "10cc7362-ad21-4d46-907b-9b03b60961cc",
        "colab": {
          "base_uri": "https://localhost:8080/"
        }
      },
      "source": [
        "xs, ys = [], []\r\n",
        "cnt = 0\r\n",
        "maxlen = 0\r\n",
        "for d in train_data:\r\n",
        "    cnt = cnt + 1\r\n",
        "    ys.append(labeltoint(d[1]))\r\n",
        "    if cnt % 1000 == 0:\r\n",
        "        print(cnt)\r\n",
        "    ang = pos_tag(word_tokenize(d[0]))\r\n",
        "    words=[]\r\n",
        "    for t in ang:\r\n",
        "        words.append(\"/\".join(t))\r\n",
        "    if len(words) > maxlen: \r\n",
        "        maxlen = len(words)\r\n",
        "    wids = [word2index[word] for word in words]\r\n",
        "    xs.append(wids)"
      ],
      "execution_count": 20,
      "outputs": [
        {
          "output_type": "stream",
          "text": [
            "1000\n",
            "2000\n",
            "3000\n",
            "4000\n",
            "5000\n",
            "6000\n",
            "7000\n",
            "8000\n",
            "9000\n",
            "10000\n",
            "11000\n",
            "12000\n",
            "13000\n",
            "14000\n"
          ],
          "name": "stdout"
        }
      ]
    },
    {
      "cell_type": "code",
      "metadata": {
        "id": "OZ4FGdSJxmsx",
        "outputId": "b26b19b8-5d73-42c5-e174-2d37563d2476",
        "colab": {
          "base_uri": "https://localhost:8080/"
        }
      },
      "source": [
        "X = pad_sequences(xs, maxlen=maxlen) \r\n",
        "Y = np_utils.to_categorical(ys)\r\n",
        " \r\n",
        "EMBED_SIZE = 100 \r\n",
        "NUM_FILTERS = 256 \r\n",
        "NUM_WORDS = 3 \r\n",
        "BATCH_SIZE = 64 \r\n",
        "NUM_EPOCHS = 20\r\n",
        "\r\n",
        "x_train, x_test, y_train, y_test = train_test_split(X, Y, test_size=0.3, random_state=50)\r\n",
        "model = Sequential() \r\n",
        "model.add(Embedding(vocab_sz, EMBED_SIZE, input_length=maxlen)) \r\n",
        "model.add(SpatialDropout1D(0.2)) \r\n",
        "model.add(Conv1D(filters=NUM_FILTERS, kernel_size=NUM_WORDS, activation=\"relu\")) \r\n",
        "model.add(LSTM(100, dropout=0.2, recurrent_dropout=0.2)) \r\n",
        "# model.add(GlobalMaxPooling1D()) \r\n",
        "model.add(Dense(8, activation=\"softmax\")) \r\n",
        "model.compile(optimizer=\"adam\", loss=\"categorical_crossentropy\", metrics=[\"accuracy\"]) \r\n",
        "\r\n",
        "history = model.fit(x_train, y_train, batch_size=BATCH_SIZE, epochs=NUM_EPOCHS, validation_data=(x_test, y_test))"
      ],
      "execution_count": 24,
      "outputs": [
        {
          "output_type": "stream",
          "text": [
            "Epoch 1/20\n",
            "159/159 [==============================] - 30s 173ms/step - loss: 1.6727 - accuracy: 0.4274 - val_loss: 1.5422 - val_accuracy: 0.4578\n",
            "Epoch 2/20\n",
            "159/159 [==============================] - 27s 172ms/step - loss: 1.4582 - accuracy: 0.4869 - val_loss: 1.4911 - val_accuracy: 0.4620\n",
            "Epoch 3/20\n",
            "159/159 [==============================] - 27s 172ms/step - loss: 1.2158 - accuracy: 0.5785 - val_loss: 1.5503 - val_accuracy: 0.4617\n",
            "Epoch 4/20\n",
            "159/159 [==============================] - 34s 212ms/step - loss: 1.0438 - accuracy: 0.6400 - val_loss: 1.6701 - val_accuracy: 0.4431\n",
            "Epoch 5/20\n",
            "159/159 [==============================] - 27s 173ms/step - loss: 0.8922 - accuracy: 0.6840 - val_loss: 1.8298 - val_accuracy: 0.4332\n",
            "Epoch 6/20\n",
            "159/159 [==============================] - 27s 172ms/step - loss: 0.7649 - accuracy: 0.7417 - val_loss: 1.9851 - val_accuracy: 0.4217\n",
            "Epoch 7/20\n",
            "159/159 [==============================] - 27s 172ms/step - loss: 0.6897 - accuracy: 0.7586 - val_loss: 2.1339 - val_accuracy: 0.4167\n",
            "Epoch 8/20\n",
            "159/159 [==============================] - 27s 172ms/step - loss: 0.6289 - accuracy: 0.7745 - val_loss: 2.3089 - val_accuracy: 0.4146\n",
            "Epoch 9/20\n",
            "159/159 [==============================] - 27s 172ms/step - loss: 0.5899 - accuracy: 0.7870 - val_loss: 2.4070 - val_accuracy: 0.4059\n",
            "Epoch 10/20\n",
            "159/159 [==============================] - 27s 172ms/step - loss: 0.5647 - accuracy: 0.7949 - val_loss: 2.5613 - val_accuracy: 0.4029\n",
            "Epoch 11/20\n",
            "159/159 [==============================] - 27s 173ms/step - loss: 0.5352 - accuracy: 0.8053 - val_loss: 2.6565 - val_accuracy: 0.4089\n",
            "Epoch 12/20\n",
            "159/159 [==============================] - 27s 172ms/step - loss: 0.5038 - accuracy: 0.8158 - val_loss: 2.7853 - val_accuracy: 0.4013\n",
            "Epoch 13/20\n",
            "159/159 [==============================] - 27s 173ms/step - loss: 0.4865 - accuracy: 0.8237 - val_loss: 2.9138 - val_accuracy: 0.4008\n",
            "Epoch 14/20\n",
            "159/159 [==============================] - 27s 172ms/step - loss: 0.4742 - accuracy: 0.8284 - val_loss: 2.9877 - val_accuracy: 0.4082\n",
            "Epoch 15/20\n",
            "159/159 [==============================] - 28s 174ms/step - loss: 0.4557 - accuracy: 0.8309 - val_loss: 3.1108 - val_accuracy: 0.4027\n",
            "Epoch 16/20\n",
            "159/159 [==============================] - 27s 172ms/step - loss: 0.4474 - accuracy: 0.8360 - val_loss: 3.2119 - val_accuracy: 0.4114\n",
            "Epoch 17/20\n",
            "159/159 [==============================] - 27s 172ms/step - loss: 0.4508 - accuracy: 0.8360 - val_loss: 3.2941 - val_accuracy: 0.4045\n",
            "Epoch 18/20\n",
            "159/159 [==============================] - 27s 172ms/step - loss: 0.4262 - accuracy: 0.8368 - val_loss: 3.3862 - val_accuracy: 0.3981\n",
            "Epoch 19/20\n",
            "159/159 [==============================] - 27s 172ms/step - loss: 0.4159 - accuracy: 0.8483 - val_loss: 3.4917 - val_accuracy: 0.4031\n",
            "Epoch 20/20\n",
            "159/159 [==============================] - 27s 173ms/step - loss: 0.4131 - accuracy: 0.8423 - val_loss: 3.5708 - val_accuracy: 0.3843\n"
          ],
          "name": "stdout"
        }
      ]
    },
    {
      "cell_type": "code",
      "metadata": {
        "id": "2FRs6NiHytzu",
        "outputId": "219d9b8e-2c70-44e5-a7d3-d018e000864d",
        "colab": {
          "base_uri": "https://localhost:8080/",
          "height": 279
        }
      },
      "source": [
        "fig, loss_ax = plt.subplots()\r\n",
        "acc_ax = loss_ax.twinx()\r\n",
        "\r\n",
        "loss_ax.plot(history.history['loss'], 'y', label='train loss')\r\n",
        "loss_ax.plot(history.history['val_loss'], 'r', label='val loss')\r\n",
        "loss_ax.set_xlabel('epoch')\r\n",
        "loss_ax.set_ylabel('loss')\r\n",
        "loss_ax.legend(loc='upper left')\r\n",
        "\r\n",
        "acc_ax.plot(history.history['accuracy'], 'b', label='train acc')\r\n",
        "acc_ax.plot(history.history['val_accuracy'], 'g', label='val acc')\r\n",
        "acc_ax.set_ylabel('accuracy')\r\n",
        "acc_ax.legend(loc='upper left')\r\n",
        "\r\n",
        "plt.show()"
      ],
      "execution_count": 25,
      "outputs": [
        {
          "output_type": "display_data",
          "data": {
            "image/png": "[encoded data removed]",
            "text/plain": [
              "<Figure size 432x288 with 2 Axes>"
            ]
          },
          "metadata": {
            "tags": [],
            "needs_background": "light"
          }
        }
      ]
    },
    {
      "cell_type": "code",
      "metadata": {
        "id": "MBjs46HJyts3"
      },
      "source": [
        "def inttolabel(idx):\r\n",
        "    return {0:'non-neutral',\r\n",
        "             1:'neutral', \r\n",
        "             2:'joy',\r\n",
        "             3:'sadness',\r\n",
        "             4:'fear',\r\n",
        "             5:'anger',\r\n",
        "             6:'surprise',\r\n",
        "             7:'disgust'}[idx]\r\n",
        "\r\n",
        "def predict(text): \r\n",
        "    aa = pos_tag(word_tokenize(text))\r\n",
        "    pp = []\r\n",
        "    for t in aa:\r\n",
        "        pp.append(\"/\".join(t))\r\n",
        "    wids = [word2index[word] for word in pp]\r\n",
        "    x_predict = pad_sequences([wids], maxlen=maxlen) \r\n",
        "    y_predict = model.predict(x_predict) \r\n",
        "    c = 0\r\n",
        "    cnt = 0\r\n",
        "    for y in y_predict[0]:\r\n",
        "        if c < y:\r\n",
        "            c = y\r\n",
        "            ans = cnt\r\n",
        "        cnt += 1\r\n",
        "    ans = inttolabel(ans)\r\n",
        "    return ans;"
      ],
      "execution_count": 27,
      "outputs": []
    },
    {
      "cell_type": "code",
      "metadata": {
        "id": "0i7_HR8U0smG"
      },
      "source": [
        "def printProgress (iteration, total, prefix = '', suffix = '', decimals = 1, barLength = 100):\r\n",
        "    formatStr = \"{0:.\" + str(decimals) + \"f}\"\r\n",
        "    percent = formatStr.format(100 * (iteration / float(total)))\r\n",
        "    filledLength = int(round(barLength * iteration / float(total)))\r\n",
        "    bar = '#' * filledLength + '-' * (barLength - filledLength)\r\n",
        "    sys.stdout.write('\\r%s |%s| %s%s %s' % (prefix, bar, percent, '%', suffix)),\r\n",
        "    if iteration == total:\r\n",
        "        sys.stdout.write('\\n')\r\n",
        "    sys.stdout.flush()"
      ],
      "execution_count": 34,
      "outputs": []
    },
    {
      "cell_type": "code",
      "metadata": {
        "id": "vOrwV77i0fGw",
        "outputId": "e7007e97-5305-4ae1-8803-651fb8fcf0d5",
        "colab": {
          "base_uri": "https://localhost:8080/"
        }
      },
      "source": [
        "predict_data = pd.read_csv('data.csv')\r\n",
        "total_length = len(predict_data)\r\n",
        "\r\n",
        "cols = ['Id', 'Predicted']\r\n",
        "lst = []\r\n",
        "for index, row in predict_data.iterrows():\r\n",
        "    printProgress(row['id'], total_length, 'Progress:', 'Complete', 1, 100)\r\n",
        "    lst.append([row['id'], predict(row['utterance'])])\r\n",
        "\r\n",
        "result_df = pd.DataFrame(lst, columns=cols)\r\n",
        "print(result_df)"
      ],
      "execution_count": 45,
      "outputs": [
        {
          "output_type": "stream",
          "text": [
            "Progress: |####################################################################################################| 99.9% Complete        Id    Predicted\n",
            "0        0      neutral\n",
            "1        1      neutral\n",
            "2        2        anger\n",
            "3        3      neutral\n",
            "4        4  non-neutral\n",
            "...    ...          ...\n",
            "1618  1618      neutral\n",
            "1619  1619      neutral\n",
            "1620  1620      neutral\n",
            "1621  1621      neutral\n",
            "1622  1622  non-neutral\n",
            "\n",
            "[1623 rows x 2 columns]\n"
          ],
          "name": "stdout"
        }
      ]
    },
    {
      "cell_type": "code",
      "metadata": {
        "id": "qIxrY3RMy8n-"
      },
      "source": [
        "result_df.to_csv('sample.csv', sep=',', index=False)"
      ],
      "execution_count": 46,
      "outputs": []
    }
  ]
}